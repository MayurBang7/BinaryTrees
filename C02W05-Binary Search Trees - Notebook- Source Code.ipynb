{
 "cells": [
  {
   "cell_type": "markdown",
   "metadata": {},
   "source": [
    "|                                     |                                      |\n",
    "| ---                                 | ---                                  |\n",
    "| <img src=\"http://drive.google.com/uc?export=view&id=1JzM1Jig5KAOCvU4tIf2t66B3gd1uy1rG\" width=200px> |<img src=\"http://drive.google.com/uc?export=view&id=1kMibD1EUis_6bwFtFIOgvUg22zEdROns\" width=200px>|\n",
    "\n",
    "Proprietary content. © Great Learning. All Rights Reserved. Unauthorized use or distribution prohibited."
   ]
  },
  {
   "cell_type": "code",
   "execution_count": 72,
   "metadata": {},
   "outputs": [],
   "source": [
    "class BinaryTreeNode:\n",
    "    def __init__(self, data, keyindex):\n",
    "        self.data = data\n",
    "        self.keyindex = keyindex\n",
    "        self.left = None\n",
    "        self.right=None\n",
    "        self.deleted = False\n",
    "    \n",
    "    def __str__(self):\n",
    "        return \"<{},({},{}),{},{},{},{}>\".format(self.data[0],self.data[1][0],self.data[1][1],self.data[2],self.data[3],self.data[4],self.data[5])\n",
    "\n",
    "def height(root):\n",
    "    if root is None : return 0\n",
    "    else : return max(height(root.left),height(root.right)) + 1\n",
    "         \n",
    "def insert(root,val, keyindex):\n",
    "    if root is None:\n",
    "        root = BinaryTreeNode(val,keyindex)\n",
    "        return root\n",
    "    if val[keyindex] == root.data[keyindex]:#element already exists in the tree\n",
    "        root.deleted = False\n",
    "        return root\n",
    "    if val[keyindex] < root.data[keyindex]:\n",
    "        root.left=insert(root.left,val,keyindex)\n",
    "    else:\n",
    "        root.right=insert(root.right,val,keyindex)\n",
    "    return root\n",
    "\n",
    "def inorder(root):\n",
    "    if root==None : return\n",
    "    inorder(root.left)\n",
    "    if root.deleted==False : print(root)\n",
    "    inorder(root.right)\n",
    "\n",
    "def search(root,val,keyindex):\n",
    "    if root==None : return None\n",
    "    if root.data[keyindex] == val[keyindex] : return root\n",
    "    elif root.data[keyindex] > val[keyindex] : return search(root.left,val,keyindex)\n",
    "    elif root.data[keyindex] < val[keyindex] : return search(root.right,val,keyindex)\n",
    "\n",
    "def delete(root,val,keyindex):#Lazy deletion to speed up response time\n",
    "    if root==None : return None\n",
    "    if root.data[keyindex] == val : root.deleted = True; return root\n",
    "    elif root.data[keyindex] > val : return delete(root.left,val,keyindex)\n",
    "    elif root.data[keyindex] < val : return delete(root.right,val,keyindex)\n",
    "\n",
    "def isBalanced(root):\n",
    "    if root == None : return True\n",
    "    elif (height(root.left) - height(root.right)) == 0 : return True \n",
    "    elif abs(height(root.left) - height(root.right)) >= 1 : return False\n",
    "    else : return (isBalanced(root.left) and isBalanced(root.right))"
   ]
  },
  {
   "cell_type": "markdown",
   "metadata": {},
   "source": [
    "### <font color='blue'> Operation Based on user name </font>"
   ]
  },
  {
   "cell_type": "code",
   "execution_count": 79,
   "metadata": {},
   "outputs": [],
   "source": [
    "from datetime import datetime\n",
    "\n",
    "keyidx = 1 #User name \n",
    "uname = BinaryTreeNode([\"U10010\",('Harry','Potter'),\"P20001\",\"Soap\",55.6,datetime(2022,2,11,8,44)],keyidx)\n",
    "uname = insert(uname,[\"U10002\",('Pinky','Sharma'),\"P20013\",\"Calculator\",1000.5,datetime(2022,2,12,7,55)],keyidx)\n",
    "uname = insert(uname,[\"U10032\",('Anish','Verma'),\"P20007\",\"Bag\",300,datetime(2022,2,15,16,35)],keyidx)\n",
    "uname = insert(uname,[\"U10001\",('Gregory','Mendel'),\"P20225\",\"Table\",707.4,datetime(2022,2,15,16,31)],keyidx)\n",
    "uname = insert(uname,[\"U10022\",('Zakhir','Hussain'),\"P21014\",\"Sitar\",7000.6,datetime(2022,1,14,8,22)],keyidx)\n",
    "uname = insert(uname,[\"U10012\",('Albert','Einstien'),\"P20018\",\"Notebook\",10.7,datetime(2021,2,12,7,25)],keyidx)\n",
    "uname = insert(uname,[\"U13002\",('Musk','Elon'),\"P20717\",\"Battery\",2000.5,datetime(2022,2,1,17,22)],keyidx)\n",
    "uname = insert(uname,[\"U10502\",('Billy','Gates'),\"P20812\",\"iPhone\",40000.5,datetime(2022,2,2,17,22)],keyidx)"
   ]
  },
  {
   "cell_type": "code",
   "execution_count": 80,
   "metadata": {
    "scrolled": true
   },
   "outputs": [
    {
     "name": "stdout",
     "output_type": "stream",
     "text": [
      "<U10012,(Albert,Einstien),P20018,Notebook,10.7,2021-02-12 07:25:00>\n",
      "<U10032,(Anish,Verma),P20007,Bag,300,2022-02-15 16:35:00>\n",
      "<U10502,(Billy,Gates),P20812,iPhone,40000.5,2022-02-02 17:22:00>\n",
      "<U10001,(Gregory,Mendel),P20225,Table,707.4,2022-02-15 16:31:00>\n",
      "<U10010,(Harry,Potter),P20001,Soap,55.6,2022-02-11 08:44:00>\n",
      "<U13002,(Musk,Elon),P20717,Battery,2000.5,2022-02-01 17:22:00>\n",
      "<U10002,(Pinky,Sharma),P20013,Calculator,1000.5,2022-02-12 07:55:00>\n",
      "<U10022,(Zakhir,Hussain),P21014,Sitar,7000.6,2022-01-14 08:22:00>\n",
      "4\n",
      "False\n"
     ]
    }
   ],
   "source": [
    "inorder(uname)\n",
    "print(height(uname))\n",
    "print(isBalanced(uname))"
   ]
  },
  {
   "cell_type": "markdown",
   "metadata": {},
   "source": [
    "### <font color='blue'> Operation Based on product name </font>"
   ]
  },
  {
   "cell_type": "code",
   "execution_count": 81,
   "metadata": {},
   "outputs": [],
   "source": [
    "keyidx = 3 #Product name \n",
    "pname = BinaryTreeNode([\"U10010\",('Harry','Potter'),\"P20001\",\"Soap\",55.6,datetime(2022,2,11,8,44)],keyidx)\n",
    "pname = insert(pname,[\"U10002\",('Pinky','Sharma'),\"P20013\",\"Calculator\",1000.5,datetime(2022,2,12,7,55)],keyidx)\n",
    "pname = insert(pname,[\"U10032\",('Anish','Verma'),\"P20007\",\"Bag\",300,datetime(2022,2,15,16,35)],keyidx)\n",
    "pname = insert(pname,[\"U10001\",('Gregory','Mendel'),\"P20225\",\"Table\",707.4,datetime(2022,2,15,16,31)],keyidx)\n",
    "pname = insert(pname,[\"U10022\",('Zakhir','Hussain'),\"P21014\",\"Sitar\",7000.6,datetime(2022,1,14,8,22)],keyidx)\n",
    "pname = insert(pname,[\"U10012\",('Albert','Einstien'),\"P20018\",\"Notebook\",10.7,datetime(2021,2,12,7,25)],keyidx)\n",
    "pname = insert(pname,[\"U13002\",('Musk','Elon'),\"P20717\",\"Battery\",2000.5,datetime(2022,2,1,17,22)],keyidx)\n",
    "pname = insert(pname,[\"U10502\",('Billy','Gates'),\"P20812\",\"iPhone\",40000.5,datetime(2022,2,2,17,22)],keyidx)"
   ]
  },
  {
   "cell_type": "code",
   "execution_count": 82,
   "metadata": {
    "scrolled": true
   },
   "outputs": [
    {
     "name": "stdout",
     "output_type": "stream",
     "text": [
      "<U10032,(Anish,Verma),P20007,Bag,300,2022-02-15 16:35:00>\n",
      "<U13002,(Musk,Elon),P20717,Battery,2000.5,2022-02-01 17:22:00>\n",
      "<U10002,(Pinky,Sharma),P20013,Calculator,1000.5,2022-02-12 07:55:00>\n",
      "<U10012,(Albert,Einstien),P20018,Notebook,10.7,2021-02-12 07:25:00>\n",
      "<U10022,(Zakhir,Hussain),P21014,Sitar,7000.6,2022-01-14 08:22:00>\n",
      "<U10010,(Harry,Potter),P20001,Soap,55.6,2022-02-11 08:44:00>\n",
      "<U10001,(Gregory,Mendel),P20225,Table,707.4,2022-02-15 16:31:00>\n",
      "<U10502,(Billy,Gates),P20812,iPhone,40000.5,2022-02-02 17:22:00>\n",
      "After deletion:\n",
      "<U10032,(Anish,Verma),P20007,Bag,300,2022-02-15 16:35:00>\n",
      "<U13002,(Musk,Elon),P20717,Battery,2000.5,2022-02-01 17:22:00>\n",
      "<U10002,(Pinky,Sharma),P20013,Calculator,1000.5,2022-02-12 07:55:00>\n",
      "<U10012,(Albert,Einstien),P20018,Notebook,10.7,2021-02-12 07:25:00>\n",
      "<U10010,(Harry,Potter),P20001,Soap,55.6,2022-02-11 08:44:00>\n",
      "<U10001,(Gregory,Mendel),P20225,Table,707.4,2022-02-15 16:31:00>\n",
      "<U10502,(Billy,Gates),P20812,iPhone,40000.5,2022-02-02 17:22:00>\n",
      "After insertion:\n",
      "<U10032,(Anish,Verma),P20007,Bag,300,2022-02-15 16:35:00>\n",
      "<U13002,(Musk,Elon),P20717,Battery,2000.5,2022-02-01 17:22:00>\n",
      "<U10002,(Pinky,Sharma),P20013,Calculator,1000.5,2022-02-12 07:55:00>\n",
      "<U10012,(Albert,Einstien),P20018,Notebook,10.7,2021-02-12 07:25:00>\n",
      "<U10022,(Zakhir,Hussain),P21014,Sitar,7000.6,2022-01-14 08:22:00>\n",
      "<U10010,(Harry,Potter),P20001,Soap,55.6,2022-02-11 08:44:00>\n",
      "<U10001,(Gregory,Mendel),P20225,Table,707.4,2022-02-15 16:31:00>\n",
      "<U10502,(Billy,Gates),P20812,iPhone,40000.5,2022-02-02 17:22:00>\n"
     ]
    }
   ],
   "source": [
    "inorder(pname)\n",
    "delete(pname,\"Sitar\",keyidx)\n",
    "print('After deletion:')\n",
    "inorder(pname)\n",
    "print('After insertion:')\n",
    "pname = insert(pname,[\"U10022\",('Zakhir','Hussain'),\"P21014\",\"Sitar\",7000.6,datetime(2022,1,14,8,22)],keyidx)\n",
    "inorder(pname)"
   ]
  },
  {
   "cell_type": "markdown",
   "metadata": {},
   "source": [
    "### <font color='blue'> Operation Based on purchase date </font>"
   ]
  },
  {
   "cell_type": "code",
   "execution_count": 83,
   "metadata": {},
   "outputs": [],
   "source": [
    "keyidx = 5 #Purchase date \n",
    "pdate = BinaryTreeNode([\"U10010\",('Harry','Potter'),\"P20001\",\"Soap\",55.6,datetime(2022,2,11,8,44)],keyidx)\n",
    "pdate = insert(pdate,[\"U10002\",('Pinky','Sharma'),\"P20013\",\"Calculator\",1000.5,datetime(2022,2,12,7,55)],keyidx)\n",
    "pdate = insert(pdate,[\"U10032\",('Anish','Verma'),\"P20007\",\"Bag\",300,datetime(2022,2,15,16,35)],keyidx)\n",
    "pdate = insert(pdate,[\"U10001\",('Gregory','Mendel'),\"P20225\",\"Table\",707.4,datetime(2022,2,15,16,31)],keyidx)\n",
    "pdate = insert(pdate,[\"U10022\",('Zakhir','Hussain'),\"P21014\",\"Sitar\",7000.6,datetime(2022,1,14,8,22)],keyidx)\n",
    "pdate = insert(pdate,[\"U10012\",('Albert','Einstien'),\"P20018\",\"Notebook\",10.7,datetime(2021,2,12,7,25)],keyidx)\n",
    "pdate = insert(pdate,[\"U13002\",('Musk','Elon'),\"P20717\",\"Battery\",2000.5,datetime(2022,2,1,17,22)],keyidx)\n",
    "pdate = insert(pdate,[\"U10502\",('Billy','Gates'),\"P20812\",\"iPhone\",40000.5,datetime(2022,2,2,17,22)],keyidx)"
   ]
  },
  {
   "cell_type": "code",
   "execution_count": 84,
   "metadata": {},
   "outputs": [
    {
     "name": "stdout",
     "output_type": "stream",
     "text": [
      "<U10012,(Albert,Einstien),P20018,Notebook,10.7,2021-02-12 07:25:00>\n",
      "<U10022,(Zakhir,Hussain),P21014,Sitar,7000.6,2022-01-14 08:22:00>\n",
      "<U13002,(Musk,Elon),P20717,Battery,2000.5,2022-02-01 17:22:00>\n",
      "<U10502,(Billy,Gates),P20812,iPhone,40000.5,2022-02-02 17:22:00>\n",
      "<U10010,(Harry,Potter),P20001,Soap,55.6,2022-02-11 08:44:00>\n",
      "<U10002,(Pinky,Sharma),P20013,Calculator,1000.5,2022-02-12 07:55:00>\n",
      "<U10001,(Gregory,Mendel),P20225,Table,707.4,2022-02-15 16:31:00>\n",
      "<U10032,(Anish,Verma),P20007,Bag,300,2022-02-15 16:35:00>\n"
     ]
    },
    {
     "data": {
      "text/plain": [
       "4"
      ]
     },
     "execution_count": 84,
     "metadata": {},
     "output_type": "execute_result"
    }
   ],
   "source": [
    "inorder(pdate)\n",
    "height(pdate)"
   ]
  },
  {
   "cell_type": "code",
   "execution_count": null,
   "metadata": {},
   "outputs": [],
   "source": []
  }
 ],
 "metadata": {
  "kernelspec": {
   "display_name": "Python 3",
   "language": "python",
   "name": "python3"
  },
  "language_info": {
   "codemirror_mode": {
    "name": "ipython",
    "version": 3
   },
   "file_extension": ".py",
   "mimetype": "text/x-python",
   "name": "python",
   "nbconvert_exporter": "python",
   "pygments_lexer": "ipython3",
   "version": "3.8.5"
  }
 },
 "nbformat": 4,
 "nbformat_minor": 5
}
